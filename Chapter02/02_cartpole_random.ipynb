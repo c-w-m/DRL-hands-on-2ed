{
 "cells": [
  {
   "cell_type": "markdown",
   "id": "f18c0747-26f8-424a-be0a-15af3aec4e61",
   "metadata": {},
   "source": [
    "## 02_cartpole_random.py"
   ]
  },
  {
   "cell_type": "code",
   "execution_count": 1,
   "id": "b4f8c52b-d8ff-4b80-b2f4-466c86d5fc98",
   "metadata": {},
   "outputs": [],
   "source": [
    "import gym"
   ]
  },
  {
   "cell_type": "code",
   "execution_count": 2,
   "id": "eb996a26-a74a-4094-a8eb-67e38bf48b13",
   "metadata": {},
   "outputs": [
    {
     "name": "stdout",
     "output_type": "stream",
     "text": [
      "Episode done in 62 steps, total reward 62.00\n"
     ]
    }
   ],
   "source": [
    "env = gym.make(\"CartPole-v0\")\n",
    "total_reward = 0.0\n",
    "total_steps = 0\n",
    "obs = env.reset()\n",
    "\n",
    "while True:\n",
    "    action = env.action_space.sample()\n",
    "    obs, reward, done, _ = env.step(action)\n",
    "    total_reward += reward\n",
    "    total_steps += 1\n",
    "    if done:\n",
    "        break\n",
    "\n",
    "print(\"Episode done in %d steps, total reward %.2f\" % (\n",
    "    total_steps, total_reward))"
   ]
  }
 ],
 "metadata": {
  "kernelspec": {
   "display_name": "drl37",
   "language": "python",
   "name": "drl37"
  },
  "language_info": {
   "codemirror_mode": {
    "name": "ipython",
    "version": 3
   },
   "file_extension": ".py",
   "mimetype": "text/x-python",
   "name": "python",
   "nbconvert_exporter": "python",
   "pygments_lexer": "ipython3",
   "version": "3.7.10"
  }
 },
 "nbformat": 4,
 "nbformat_minor": 5
}
