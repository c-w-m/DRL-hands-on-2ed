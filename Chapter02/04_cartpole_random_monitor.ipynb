{
 "cells": [
  {
   "cell_type": "markdown",
   "id": "749b5275-81e9-43af-b842-b9e15bc7edfa",
   "metadata": {},
   "source": [
    "## 04_cartpole_random_monitor"
   ]
  },
  {
   "cell_type": "code",
   "execution_count": 1,
   "id": "f007f837-27bb-48bc-8350-025c3d1d726e",
   "metadata": {},
   "outputs": [],
   "source": [
    "import gym"
   ]
  },
  {
   "cell_type": "code",
   "execution_count": 2,
   "id": "effb88b9-2cd5-4416-b9d5-378f20d31884",
   "metadata": {},
   "outputs": [
    {
     "name": "stdout",
     "output_type": "stream",
     "text": [
      "Episode done in 11 steps, total reward 11.00\n"
     ]
    }
   ],
   "source": [
    "env = gym.make(\"CartPole-v0\")\n",
    "env = gym.wrappers.Monitor(env, \"recording\")\n",
    "\n",
    "total_reward = 0.0\n",
    "total_steps = 0\n",
    "obs = env.reset()\n",
    "\n",
    "while True:\n",
    "    action = env.action_space.sample()\n",
    "    obs, reward, done, _ = env.step(action)\n",
    "    total_reward += reward\n",
    "    total_steps += 1\n",
    "    if done:\n",
    "        break\n",
    "\n",
    "print(\"Episode done in %d steps, total reward %.2f\" % (\n",
    "    total_steps, total_reward))\n",
    "env.close()\n",
    "env.env.close()"
   ]
  }
 ],
 "metadata": {
  "kernelspec": {
   "display_name": "drl37",
   "language": "python",
   "name": "drl37"
  },
  "language_info": {
   "codemirror_mode": {
    "name": "ipython",
    "version": 3
   },
   "file_extension": ".py",
   "mimetype": "text/x-python",
   "name": "python",
   "nbconvert_exporter": "python",
   "pygments_lexer": "ipython3",
   "version": "3.7.10"
  }
 },
 "nbformat": 4,
 "nbformat_minor": 5
}
